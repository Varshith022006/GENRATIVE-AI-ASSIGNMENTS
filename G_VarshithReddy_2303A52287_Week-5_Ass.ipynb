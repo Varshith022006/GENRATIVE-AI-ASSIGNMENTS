{
  "nbformat": 4,
  "nbformat_minor": 0,
  "metadata": {
    "colab": {
      "provenance": [],
      "include_colab_link": true
    },
    "kernelspec": {
      "name": "python3",
      "display_name": "Python 3"
    },
    "language_info": {
      "name": "python"
    }
  },
  "cells": [
    {
      "cell_type": "markdown",
      "metadata": {
        "id": "view-in-github",
        "colab_type": "text"
      },
      "source": [
        "<a href=\"https://colab.research.google.com/github/Varshith022006/GENRATIVE-AI-ASSIGNMENTS/blob/main/G_VarshithReddy_2303A52287_Week-5_Ass.ipynb\" target=\"_parent\"><img src=\"https://colab.research.google.com/assets/colab-badge.svg\" alt=\"Open In Colab\"/></a>"
      ]
    },
    {
      "cell_type": "code",
      "execution_count": null,
      "metadata": {
        "colab": {
          "base_uri": "https://localhost:8080/"
        },
        "id": "2WuZT7JPEjuW",
        "outputId": "80df2cee-41c7-41a8-8f77-3fe2b14df934"
      },
      "outputs": [
        {
          "output_type": "stream",
          "name": "stdout",
          "text": [
            "Training MSE: 1.0907740831908015e-07\n",
            "Testing MSE: 2.6416828073319902e-08\n",
            "Enter x1: 0.1\n",
            "Enter x2: 0.2\n",
            "Predicted Output: 0.34263363177545947\n"
          ]
        }
      ],
      "source": [
        "import numpy as np\n",
        "\n",
        "# Activation functions\n",
        "def sigmoid(x):\n",
        "    return 1 / (1 + np.exp(-x))\n",
        "\n",
        "def sigmoid_derivative(x):\n",
        "    return x * (1 - x)\n",
        "\n",
        "# Mean Squared Error\n",
        "def mean_squared_error(y_true, y_pred):\n",
        "    return np.mean((y_true - y_pred) ** 2)\n",
        "\n",
        "# ANN Class\n",
        "class ANN:\n",
        "    def __init__(self, input_size, hidden_size, output_size):\n",
        "        self.weights_input_hidden = np.random.rand(input_size, hidden_size)\n",
        "        self.weights_hidden_output = np.random.rand(hidden_size, output_size)\n",
        "        self.bias_hidden = np.random.rand(hidden_size)\n",
        "        self.bias_output = np.random.rand(output_size)\n",
        "\n",
        "    def forward(self, X):\n",
        "        self.hidden_input = np.dot(X, self.weights_input_hidden) + self.bias_hidden\n",
        "        self.hidden_output = sigmoid(self.hidden_input)\n",
        "        self.final_input = np.dot(self.hidden_output, self.weights_hidden_output) + self.bias_output\n",
        "        self.final_output = self.final_input  # Linear activation for output\n",
        "        return self.final_output\n",
        "\n",
        "    def backward(self, X, y, learning_rate):\n",
        "        output_error = y - self.final_output\n",
        "        output_delta = output_error\n",
        "\n",
        "        hidden_error = np.dot(output_delta, self.weights_hidden_output.T)\n",
        "        hidden_delta = hidden_error * sigmoid_derivative(self.hidden_output)\n",
        "\n",
        "        self.weights_hidden_output += np.dot(self.hidden_output.T, output_delta) * learning_rate\n",
        "        self.bias_output += np.sum(output_delta, axis=0) * learning_rate\n",
        "        self.weights_input_hidden += np.dot(X.T, hidden_delta) * learning_rate\n",
        "        self.bias_hidden += np.sum(hidden_delta, axis=0) * learning_rate\n",
        "\n",
        "    def train(self, X, y, epochs, learning_rate):\n",
        "        for _ in range(epochs):\n",
        "            self.forward(X)\n",
        "            self.backward(X, y, learning_rate)\n",
        "\n",
        "# Training Data\n",
        "X_train = np.array([[0.1, 0.2], [0.2, 0.3], [0.3, 0.4], [0.6, 0.7], [0.7, 0.8], [0.8, 0.9]])\n",
        "y_train = np.array([[0.3432], [0.3490], [0.3548], [0.3720], [0.3776], [0.3832]])\n",
        "\n",
        "# Testing Data\n",
        "X_test = np.array([[0.4, 0.5], [0.5, 0.6]])\n",
        "y_test = np.array([[0.3606], [0.3663]])\n",
        "\n",
        "# Initialize and train ANN\n",
        "ann = ANN(input_size=2, hidden_size=3, output_size=1)\n",
        "ann.train(X_train, y_train, epochs=10000, learning_rate=0.01)\n",
        "\n",
        "# Predictions and MSE calculation\n",
        "y_pred_train = ann.forward(X_train)\n",
        "train_mse = mean_squared_error(y_train, y_pred_train)\n",
        "\n",
        "y_pred_test = ann.forward(X_test)\n",
        "test_mse = mean_squared_error(y_test, y_pred_test)\n",
        "\n",
        "print(f'Training MSE: {train_mse}')\n",
        "print(f'Testing MSE: {test_mse}')\n",
        "\n",
        "# User input for prediction\n",
        "x1 = float(input(\"Enter x1: \"))\n",
        "x2 = float(input(\"Enter x2: \"))\n",
        "prediction = ann.forward(np.array([[x1, x2]]))\n",
        "print(f'Predicted Output: {prediction[0][0]}')\n"
      ]
    }
  ]
}