{
  "nbformat": 4,
  "nbformat_minor": 0,
  "metadata": {
    "colab": {
      "provenance": [],
      "include_colab_link": true
    },
    "kernelspec": {
      "name": "python3",
      "display_name": "Python 3"
    },
    "language_info": {
      "name": "python"
    }
  },
  "cells": [
    {
      "cell_type": "markdown",
      "metadata": {
        "id": "view-in-github",
        "colab_type": "text"
      },
      "source": [
        "<a href=\"https://colab.research.google.com/github/Varshith022006/GENRATIVE-AI-ASSIGNMENTS/blob/main/G_VarshithReddy_2303A52287_week-4_ASS-4.ipynb\" target=\"_parent\"><img src=\"https://colab.research.google.com/assets/colab-badge.svg\" alt=\"Open In Colab\"/></a>"
      ]
    },
    {
      "cell_type": "code",
      "execution_count": null,
      "metadata": {
        "id": "tD3LeO6lCsGa",
        "colab": {
          "base_uri": "https://localhost:8080/"
        },
        "outputId": "f860f0e6-d9a3-40ee-9075-6e8ca3f2df7d"
      },
      "outputs": [
        {
          "output_type": "stream",
          "name": "stdout",
          "text": [
            "Enter three values separated by commas (x1,x2,x3): 0.6,0.4,0.5\n",
            "Predicted Output: 0.30230889908918984\n",
            "Training Loss: 2.8846845618504036e-06, Testing Loss: 2.0511278931692184e-05\n"
          ]
        }
      ],
      "source": [
        "import numpy as np\n",
        "\n",
        "# Training Data\n",
        "X_train = np.array([[0.1, 0.2, 0.3],\n",
        "                    [0.2, 0.3, 0.4],\n",
        "                    [0.3, 0.4, 0.5],\n",
        "                    [0.5, 0.6, 0.7],\n",
        "                    [0.1, 0.3, 0.5],\n",
        "                    [0.2, 0.4, 0.6],\n",
        "                    [0.3, 0.5, 0.7],\n",
        "                    [0.4, 0.6, 0.8],\n",
        "                    [0.5, 0.7, 0.1]])\n",
        "y_train = np.array([[0.14], [0.20], [0.26], [0.38],\n",
        "                    [0.22], [0.28], [0.34], [0.40],\n",
        "                    [0.22]])\n",
        "\n",
        "# Initialize weights and bias\n",
        "weights = np.random.rand(3, 1)\n",
        "bias = np.random.rand(1)\n",
        "learning_rate = 0.01\n",
        "\n",
        "# Training the model\n",
        "for epoch in range(10000):\n",
        "    # Forward pass\n",
        "    y_pred = X_train.dot(weights) + bias\n",
        "    # Compute loss (Mean Squared Error)\n",
        "    loss = np.mean((y_pred - y_train) ** 2)\n",
        "    # Backward pass\n",
        "    d_loss = (y_pred - y_train) / y_train.size\n",
        "    weights_grad = X_train.T.dot(d_loss)\n",
        "    bias_grad = np.sum(d_loss)\n",
        "    # Update weights and bias\n",
        "    weights -= learning_rate * weights_grad\n",
        "    bias -= learning_rate * bias_grad\n",
        "\n",
        "# Test Data\n",
        "X_test = np.array([[0.6, 0.7, 0.8],\n",
        "                   [0.7, 0.8, 0.9]])\n",
        "y_test = np.array([[0.44], [0.50]])\n",
        "\n",
        "# Predictions on test data\n",
        "y_test_pred = X_test.dot(weights) + bias\n",
        "test_loss = np.mean((y_test_pred - y_test) ** 2)\n",
        "\n",
        "# User Input for Prediction\n",
        "x_input = input(\"Enter three values separated by commas (x1,x2,x3): \")\n",
        "x_input_array = np.array([float(i) for i in x_input.split(',')]).reshape(1, -1)\n",
        "prediction = x_input_array.dot(weights) + bias\n",
        "\n",
        "print(f\"Predicted Output: {prediction[0][0]}\")\n",
        "print(f\"Training Loss: {loss}, Testing Loss: {test_loss}\")\n"
      ]
    },
    {
      "cell_type": "code",
      "source": [
        "import numpy as np\n",
        "\n",
        "# Training Data\n",
        "X_train = np.array([[0.1, 0.2, 0.3],\n",
        "                    [0.2, 0.3, 0.4],\n",
        "                    [0.3, 0.4, 0.5],\n",
        "                    [0.5, 0.6, 0.7],\n",
        "                    [0.1, 0.3, 0.5],\n",
        "                    [0.2, 0.4, 0.6],\n",
        "                    [0.3, 0.5, 0.7],\n",
        "                    [0.4, 0.6, 0.8],\n",
        "                    [0.5, 0.7, 0.1]])\n",
        "y_train = np.array([[0.5349], [0.5498], [0.5646], [0.5939],\n",
        "                    [0.5548], [0.5695], [0.5842], [0.5987],\n",
        "                    [0.5548]])\n",
        "\n",
        "# Initialize weights and bias\n",
        "weights = np.random.rand(3, 1)\n",
        "bias = np.random.rand(1)\n",
        "learning_rate = 0.01\n",
        "\n",
        "def sigmoid(x):\n",
        "    return 1 / (1 + np.exp(-x))\n",
        "\n",
        "def sigmoid_derivative(x):\n",
        "    return x * (1 - x)\n",
        "\n",
        "# Training the model\n",
        "for epoch in range(10000):\n",
        "    # Forward pass\n",
        "    z = X_train.dot(weights) + bias\n",
        "    y_pred = sigmoid(z)\n",
        "    # Compute loss (Mean Squared Error)\n",
        "    loss = np.mean((y_pred - y_train) ** 2)\n",
        "    # Backward pass\n",
        "    d_loss = (y_pred - y_train) / y_train.size\n",
        "    d_sigmoid = sigmoid_derivative(y_pred)\n",
        "    weights_grad = X_train.T.dot(d_loss * d_sigmoid)\n",
        "    bias_grad = np.sum(d_loss * d_sigmoid)\n",
        "    # Update weights and bias\n",
        "    weights -= learning_rate * weights_grad\n",
        "    bias -= learning_rate * bias_grad\n",
        "\n",
        "# Test Data\n",
        "X_test = np.array([[0.6, 0.7, 0.8],\n",
        "                   [0.7, 0.8, 0.9]])\n",
        "y_test = np.array([[0.6083], [0.6225]])\n",
        "\n",
        "# Predictions on test data\n",
        "z_test = X_test.dot(weights) + bias\n",
        "y_test_pred = sigmoid(z_test)\n",
        "test_loss = np.mean((y_test_pred - y_test) ** 2)\n",
        "\n",
        "# User Input for Prediction\n",
        "x_input = input(\"Enter three values separated by commas (x1,x2,x3): \")\n",
        "x_input_array = np.array([float(i) for i in x_input.split(',')]).reshape(1, -1)\n",
        "prediction = sigmoid(x_input_array.dot(weights) + bias)\n",
        "\n",
        "print(f\"Predicted Output: {prediction[0][0]}\")\n",
        "print(f\"Training Loss: {loss}, Testing Loss: {test_loss}\")\n"
      ],
      "metadata": {
        "colab": {
          "base_uri": "https://localhost:8080/"
        },
        "id": "wcr_8d_0FNcb",
        "outputId": "43e2fee3-c091-4f30-dd73-fdb4b84d11ea"
      },
      "execution_count": null,
      "outputs": [
        {
          "output_type": "stream",
          "name": "stdout",
          "text": [
            "Enter three values separated by commas (x1,x2,x3): 1,2,3\n",
            "Predicted Output: 0.8662426092970132\n",
            "Training Loss: 0.0001662907159153591, Testing Loss: 0.0010956505095034456\n"
          ]
        }
      ]
    }
  ]
}