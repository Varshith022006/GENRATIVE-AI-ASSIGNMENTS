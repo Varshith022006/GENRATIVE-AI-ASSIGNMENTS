{
  "nbformat": 4,
  "nbformat_minor": 0,
  "metadata": {
    "colab": {
      "provenance": [],
      "include_colab_link": true
    },
    "kernelspec": {
      "name": "python3",
      "display_name": "Python 3"
    },
    "language_info": {
      "name": "python"
    }
  },
  "cells": [
    {
      "cell_type": "markdown",
      "metadata": {
        "id": "view-in-github",
        "colab_type": "text"
      },
      "source": [
        "<a href=\"https://colab.research.google.com/github/Varshith022006/GENRATIVE-AI-ASSIGNMENTS/blob/main/G_VarshithReddy_2303A52287_Ass_1.ipynb\" target=\"_parent\"><img src=\"https://colab.research.google.com/assets/colab-badge.svg\" alt=\"Open In Colab\"/></a>"
      ]
    },
    {
      "cell_type": "code",
      "execution_count": null,
      "metadata": {
        "colab": {
          "base_uri": "https://localhost:8080/"
        },
        "id": "fmf7he4A5qbh",
        "outputId": "fe1d9f1f-8c3b-48cb-b03a-4df186446cb9"
      },
      "outputs": [
        {
          "output_type": "stream",
          "name": "stdout",
          "text": [
            "Regression Metrics:\n",
            "Mean Absolute Error (MAE): 0.4600000000000016\n",
            "Mean Squared Error (MSE): 0.24600000000000147\n",
            "Root Mean Squared Error (RMSE): 0.49598387070549127\n",
            "R-squared (R2): 0.99877\n"
          ]
        }
      ],
      "source": [
        "import numpy as np\n",
        "import pandas as pd\n",
        "from sklearn.metrics import mean_absolute_error, mean_squared_error, r2_score, accuracy_score, f1_score, confusion_matrix\n",
        "\n",
        "# Data from Table 1\n",
        "y_actual_regression = np.array([20, 30, 40, 50, 60])\n",
        "y_pred_regression = np.array([20.5, 30.3, 40.2, 50.6, 60.7])\n",
        "\n",
        "# Calculate error metrics for regression\n",
        "mae = mean_absolute_error(y_actual_regression, y_pred_regression)\n",
        "mse = mean_squared_error(y_actual_regression, y_pred_regression)\n",
        "rmse = np.sqrt(mse)\n",
        "r2 = r2_score(y_actual_regression, y_pred_regression)\n",
        "\n",
        "print(\"Regression Metrics:\")\n",
        "print(\"Mean Absolute Error (MAE):\", mae)\n",
        "print(\"Mean Squared Error (MSE):\", mse)\n",
        "print(\"Root Mean Squared Error (RMSE):\", rmse)\n",
        "print(\"R-squared (R2):\", r2)"
      ]
    },
    {
      "cell_type": "code",
      "source": [
        "# Data from Table 2\n",
        "y_actual_classification = np.array([0, 0, 1, 0, 2, 0,\n",
        "                                     0, 0, 1, 0, 2, 0,\n",
        "                                     0, 1, 1, 2, 2, 1,\n",
        "                                     0, 2, 1, 0, 2, 2,\n",
        "                                     0, 2, 1, 2, 2, 2])\n",
        "\n",
        "y_pred_classification = np.array([0, 0, 1, 1, 2, 0,\n",
        "                                   0, 0, 1, 0, 2, 0,\n",
        "                                   0, 1, 1, 2, 2, 1,\n",
        "                                   0, 2, 1, 0, 2, 2,\n",
        "                                   0, 2, 1, 2, 2, 2])\n",
        "\n",
        "# Calculate evaluation metrics for classification\n",
        "accuracy = accuracy_score(y_actual_classification, y_pred_classification)\n",
        "f1 = f1_score(y_actual_classification, y_pred_classification, average='weighted')\n",
        "confusion = confusion_matrix(y_actual_classification, y_pred_classification)\n",
        "\n",
        "print(\"\\nClassification Metrics:\")\n",
        "print(\"Accuracy:\", accuracy)\n",
        "print(\"F1 Score:\", f1)\n",
        "print(\"Confusion Matrix:\\n\", confusion)"
      ],
      "metadata": {
        "colab": {
          "base_uri": "https://localhost:8080/"
        },
        "id": "bjrPoNeH7m-9",
        "outputId": "61481803-6759-4863-f3b3-e9043792a672"
      },
      "execution_count": null,
      "outputs": [
        {
          "output_type": "stream",
          "name": "stdout",
          "text": [
            "\n",
            "Classification Metrics:\n",
            "Accuracy: 0.9666666666666667\n",
            "F1 Score: 0.9670531400966184\n",
            "Confusion Matrix:\n",
            " [[11  1  0]\n",
            " [ 0  7  0]\n",
            " [ 0  0 11]]\n"
          ]
        }
      ]
    }
  ]
}